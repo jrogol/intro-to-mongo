{
 "cells": [
  {
   "cell_type": "code",
   "execution_count": 2,
   "metadata": {
    "collapsed": true
   },
   "outputs": [],
   "source": [
    "from pymongo import MongoClient\n",
    "\n",
    "# \n",
    "client = MongoClient(\"mongodb://analytics:<PASSWORD>@mflix-shard-00-00-\n",
    "                     gygpp.mongodb.net:27017,mflix-shard-00-01-gygpp.mongodb.net:27017,mflix-shard-00-02-gygpp.mongodb.net:27017/test?ssl=true&replicaSet=mflix-shard-0&authSource=admin\")\n",
    "\n",
    "print(client.mflix)"
   ]
  }
 ],
 "metadata": {
  "anaconda-cloud": {},
  "kernelspec": {
   "display_name": "Python [Root]",
   "language": "python",
   "name": "Python [Root]"
  },
  "language_info": {
   "codemirror_mode": {
    "name": "ipython",
    "version": 3
   },
   "file_extension": ".py",
   "mimetype": "text/x-python",
   "name": "python",
   "nbconvert_exporter": "python",
   "pygments_lexer": "ipython3",
   "version": "3.5.2"
  }
 },
 "nbformat": 4,
 "nbformat_minor": 0
}
